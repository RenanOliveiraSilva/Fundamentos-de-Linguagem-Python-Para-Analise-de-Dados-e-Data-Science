{
  "nbformat": 4,
  "nbformat_minor": 0,
  "metadata": {
    "colab": {
      "provenance": [],
      "collapsed_sections": [
        "sVnwdQMNqL5B"
      ]
    },
    "kernelspec": {
      "name": "python3",
      "display_name": "Python 3"
    },
    "language_info": {
      "name": "python"
    }
  },
  "cells": [
    {
      "cell_type": "markdown",
      "source": [
        "# Data Science Academy\n",
        "## Capítulo 3 - Introdução à Lógica de Programação"
      ],
      "metadata": {
        "id": "pYO6turvpt1S"
      }
    },
    {
      "cell_type": "code",
      "execution_count": null,
      "metadata": {
        "colab": {
          "base_uri": "https://localhost:8080/"
        },
        "id": "zVPrBbRcpUpK",
        "outputId": "431f39f1-7116-4c87-a605-acf737bae4fb"
      },
      "outputs": [
        {
          "output_type": "stream",
          "name": "stdout",
          "text": [
            "Versão da Linguagem Python Usada Neste Jupyter Notebook: 3.10.12\n"
          ]
        }
      ],
      "source": [
        "# Versão da Linguagem Python\n",
        "from platform import python_version\n",
        "print('Versão da Linguagem Python Usada Neste Jupyter Notebook:', python_version())"
      ]
    },
    {
      "cell_type": "markdown",
      "source": [
        "## Calcular a Área de Um Paralelograma\n",
        "\n",
        "Nota: Um paralelogramo é um quadrilátero com lados opostos paralelos (e portanto ângulos opostos iguais). Um quadrilátero com lados iguais é chamado de losango e um paralelogramo cujos ângulos são todos ângulos retos é chamado de retângulo."
      ],
      "metadata": {
        "id": "sVnwdQMNqL5B"
      }
    },
    {
      "cell_type": "markdown",
      "source": [
        "1 - Resolução em Pseudocódico"
      ],
      "metadata": {
        "id": "h3DRliaSuUeV"
      }
    },
    {
      "cell_type": "markdown",
      "metadata": {
        "id": "Jgxz20JTpOQ1"
      },
      "source": [
        "Inicie\n",
        "    \n",
        "    Exiba \"Bem-vindo ao Calculador de Área de Paralelogramo\"\n",
        "    Peça para o usuário inserir o comprimento da base\n",
        "    Armazene o comprimento da base em uma variável\n",
        "    Peça para o usuário inserir a altura\n",
        "    Armazene a altura em uma variável\n",
        "    Calcule a área do paralelogramo:  base * altura\n",
        "    Armazene o resultado em uma variável\n",
        "    Exiba o resultado\n",
        "    \n",
        "Fim\n"
      ]
    },
    {
      "cell_type": "markdown",
      "source": [
        "2 - Conversão do código em Python"
      ],
      "metadata": {
        "id": "xSwQyaQrumce"
      }
    },
    {
      "cell_type": "code",
      "source": [
        "# Mensagem de Boas Vindas\n",
        "print(\"Bem-vindo ao Calculator\")\n",
        "\n",
        "# Entrada de Dados\n",
        "base = float(input(\"Insira o comprimento da base: \")) # Valor da base\n",
        "\n",
        "altura = float(input(\"Insira a altura: \")) # Valor da altura\n",
        "\n",
        "# Processamento\n",
        "\n",
        "area = base * altura\n",
        "\n",
        "# Saída de Dados\n",
        "\n",
        "print(\"A area do paralelograma é de: \" , area)\n"
      ],
      "metadata": {
        "colab": {
          "base_uri": "https://localhost:8080/"
        },
        "id": "mRZiOxSutCJH",
        "outputId": "ec305f73-86b3-4d2b-ffa6-6a5e3a204e44"
      },
      "execution_count": null,
      "outputs": [
        {
          "output_type": "stream",
          "name": "stdout",
          "text": [
            "Bem-vindo ao Calculator\n",
            "Insira o comprimento da base: 20\n",
            "Insira a altura: 50\n",
            "A area do paralelograma é de:  1000.0\n"
          ]
        }
      ]
    },
    {
      "cell_type": "markdown",
      "source": [
        "## Calculadora Simples"
      ],
      "metadata": {
        "id": "eb6BVAbVzXx-"
      }
    },
    {
      "cell_type": "markdown",
      "source": [
        "1 - Calculadora em Pseudocódigo"
      ],
      "metadata": {
        "id": "0juIqZMfz3L0"
      }
    },
    {
      "cell_type": "markdown",
      "metadata": {
        "id": "GahmXm4ipOQ3"
      },
      "source": [
        "\n",
        "Inicie\n",
        "\n",
        "    Exiba \"Bem-vindo à Calculadora\"\n",
        "    Peça para o usuário inserir o primeiro número\n",
        "    Armazene o primeiro número em uma variável\n",
        "    Peça para o usuário inserir o segundo número\n",
        "    Armazene o segundo número em uma variável\n",
        "    Peça para o usuário selecionar uma operação (+, -, *, /)\n",
        "    Armazene a operação em uma variável\n",
        "    Utilize a operação selecionada e os números armazenados para realizar o cálculo\n",
        "    Exiba o resultado\n",
        "\n",
        "Fim\n"
      ]
    },
    {
      "cell_type": "markdown",
      "source": [
        "2 - Convertendo pseudocódigo em python"
      ],
      "metadata": {
        "id": "1MZ2DfCh80GB"
      }
    },
    {
      "cell_type": "code",
      "source": [
        "# Mensagem de Boas Vindas\n",
        "print(\"Bem-vindo à Calculadora: \")\n",
        "\n",
        "# Entrada de Dados\n",
        "num1 = float(input(\"Digite o primeiro número: \")) # Número 1\n",
        "num2 = float(input(\"Digite o segundo número: \")) # Número 2\n",
        "\n",
        "operacao = input(\"Selecione uma operação (+, -, *, /): \") # Operação\n",
        "\n",
        "# Processamento\n",
        "\n",
        "if operacao == \"+\":\n",
        "  resultado = num1 + num2\n",
        "  print(\"O resultado da sua soma é: \" ,resultado)\n",
        "\n",
        "elif operacao == \"-\":\n",
        "  resultado = num1 - num2\n",
        "  print(\"O resultado da sua subtração é: \" ,resultado)\n",
        "\n",
        "elif operacao == \"*\":\n",
        "  resultado = num1 * num2\n",
        "  print(\"O resultado da sua multiplicação é: \" ,resultado)\n",
        "\n",
        "elif operacao == \"/\":\n",
        "  resultado = num1 / num2\n",
        "  print(\"O resultado da sua divisão é: \" ,resultado)\n",
        "\n",
        "else:\n",
        "  print(\"Operação Inválida\")\n"
      ],
      "metadata": {
        "colab": {
          "base_uri": "https://localhost:8080/"
        },
        "id": "IX8JNrKR89xH",
        "outputId": "5f0191e8-4c3a-408a-855b-6401323a9620"
      },
      "execution_count": null,
      "outputs": [
        {
          "output_type": "stream",
          "name": "stdout",
          "text": [
            "Bem-vindo à Calculadora: \n",
            "Digite o primeiro número: 50\n",
            "Digite o segundo número: 20\n",
            "Selecione uma operação (+, -, *, /): +\n",
            "O resultado da sua soma é:  70.0\n"
          ]
        }
      ]
    },
    {
      "cell_type": "markdown",
      "source": [
        "## Algoritmo Bubble Sort\n",
        "\n",
        "Bubble Sort é um algoritmo de ordenação simples que funciona comparando cada elemento com o próximo, e trocando-os de lugar se eles estiverem em ordem incorreta. O algoritmo repete esse processo várias vezes, até que todos os elementos estejam ordenados. A cada passagem, o maior elemento \"flutua\" para o final do array, como uma bolha, dando origem ao nome do algoritmo."
      ],
      "metadata": {
        "id": "8IQ4UCJS0OI3"
      }
    },
    {
      "cell_type": "markdown",
      "source": [
        "1 - Pseudocódigo"
      ],
      "metadata": {
        "id": "vep41fJ6_Vqr"
      }
    },
    {
      "cell_type": "markdown",
      "metadata": {
        "id": "WmYj3M7kpOQ4"
      },
      "source": [
        "Inicie\n",
        "    \n",
        "    Para cada elemento i no array de tamanho n\n",
        "        Para cada elemento j no array de tamanho n - 1\n",
        "            Se elemento i for maior que elemento j\n",
        "                Troque os elementos i e j\n",
        "    Exiba o array ordenado\n",
        "\n",
        "Fim"
      ]
    },
    {
      "cell_type": "markdown",
      "source": [
        "2 - Convertendo o pseudocódigo em python"
      ],
      "metadata": {
        "id": "BrSjbgFr_fgj"
      }
    },
    {
      "cell_type": "code",
      "source": [
        "# Criando uma lista\n",
        "lista = [6,7,8,3,10,19,4,1,0,61,30,16,17,82,29,34,43,21,11,39,56,67,12]\n",
        "\n",
        "# Criando uma função\n",
        "def bubble_sort(arr):\n",
        "\n",
        "    n = len(arr)\n",
        "\n",
        "    # Para cada elemento i do array\n",
        "    for i in range(n):\n",
        "\n",
        "        # Para cada elemento j do array\n",
        "        for j in range(0, n-i-1):\n",
        "\n",
        "            # Se elemento i for maior que elemento j\n",
        "            if arr[j] > arr[j+1]:\n",
        "\n",
        "                # Troque os elementos i e j\n",
        "                arr[j], arr[j+1] = arr[j+1], arr[j]\n",
        "\n",
        "    return arr\n",
        "\n",
        "# Mostrando o resultado\n",
        "print(bubble_sort(lista))\n"
      ],
      "metadata": {
        "colab": {
          "base_uri": "https://localhost:8080/"
        },
        "id": "dMpG9bpk_qmr",
        "outputId": "651e278a-d150-4246-fdca-c2bc57afa6e9"
      },
      "execution_count": 1,
      "outputs": [
        {
          "output_type": "stream",
          "name": "stdout",
          "text": [
            "[0, 1, 3, 4, 6, 7, 8, 10, 11, 12, 16, 17, 19, 21, 29, 30, 34, 39, 43, 56, 61, 67, 82]\n"
          ]
        }
      ]
    }
  ]
}