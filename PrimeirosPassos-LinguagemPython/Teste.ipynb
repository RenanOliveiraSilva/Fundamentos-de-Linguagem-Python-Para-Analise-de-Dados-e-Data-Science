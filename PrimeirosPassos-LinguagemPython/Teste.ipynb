{
  "nbformat": 4,
  "nbformat_minor": 0,
  "metadata": {
    "colab": {
      "provenance": []
    },
    "kernelspec": {
      "name": "python3",
      "display_name": "Python 3"
    },
    "language_info": {
      "name": "python"
    }
  },
  "cells": [
    {
      "cell_type": "code",
      "execution_count": 1,
      "metadata": {
        "colab": {
          "base_uri": "https://localhost:8080/"
        },
        "id": "RLl-M8pkZmM6",
        "outputId": "9ba9ff5e-b8bd-4f5f-cd4b-398b7f98ac57"
      },
      "outputs": [
        {
          "output_type": "stream",
          "name": "stdout",
          "text": [
            "Olá Mundo!\n"
          ]
        }
      ],
      "source": [
        "print('Olá Mundo!')"
      ]
    },
    {
      "cell_type": "markdown",
      "source": [
        "Gere um código Python que crie uma lista com os números entre 1 e 100 e então imprima os números pares, mas somente se o número for divisível por 4.\n"
      ],
      "metadata": {
        "id": "ugYOA6czaD-j"
      }
    },
    {
      "cell_type": "code",
      "source": [
        "# Cria uma lista com os números entre 1 e 100\n",
        "numeros = list(range(1, 101))\n",
        "\n",
        "# Itera sobre os números na lista e imprime os pares divisíveis por 4\n",
        "for numero in numeros:\n",
        "    if numero % 2 == 0 and numero % 4 == 0:\n",
        "        print(numero)\n"
      ],
      "metadata": {
        "id": "4Xfj3Sslafc0"
      },
      "execution_count": null,
      "outputs": []
    },
    {
      "cell_type": "markdown",
      "source": [
        "Gere um código Python que crie uma lista com os números entre 1 e 100 e então imprima os números pares, mas somente se o número for dicisível por 4, usando o list comprehension"
      ],
      "metadata": {
        "id": "Ey6XNnf4dVE9"
      }
    },
    {
      "cell_type": "code",
      "source": [
        "# Cria uma lista com os números entre 1 e 100\n",
        "numeros = list(range(1, 101))\n",
        "\n",
        "# Use a List comprehension para gerar uma lista somente com os números pares e divisíveis por 4\n",
        "pares_div4 = [numero for numero in numeros if numero % 2 == 0 and numero % 4 == 0 ]\n",
        "\n",
        "# Imprima a lista gerada\n",
        "print(pares_div4)\n"
      ],
      "metadata": {
        "colab": {
          "base_uri": "https://localhost:8080/"
        },
        "id": "z4DvYxU0dS79",
        "outputId": "2f36108e-b922-418b-d375-e4f1440c0a18"
      },
      "execution_count": 5,
      "outputs": [
        {
          "output_type": "stream",
          "name": "stdout",
          "text": [
            "[4, 8, 12, 16, 20, 24, 28, 32, 36, 40, 44, 48, 52, 56, 60, 64, 68, 72, 76, 80, 84, 88, 92, 96, 100]\n"
          ]
        }
      ]
    },
    {
      "cell_type": "code",
      "source": [
        "type(pares_div4)"
      ],
      "metadata": {
        "colab": {
          "base_uri": "https://localhost:8080/"
        },
        "id": "piP5nbESlsXZ",
        "outputId": "63da3368-1b75-486e-c9ac-587f121a2ee7"
      },
      "execution_count": 6,
      "outputs": [
        {
          "output_type": "execute_result",
          "data": {
            "text/plain": [
              "list"
            ]
          },
          "metadata": {},
          "execution_count": 6
        }
      ]
    },
    {
      "cell_type": "markdown",
      "source": [
        "# FIM\n"
      ],
      "metadata": {
        "id": "wyy-g9LNkS0M"
      }
    }
  ]
}